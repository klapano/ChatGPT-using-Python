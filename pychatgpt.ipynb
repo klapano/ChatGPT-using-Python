{
 "cells": [
  {
   "cell_type": "code",
   "execution_count": 3,
   "id": "96998534",
   "metadata": {},
   "outputs": [],
   "source": [
    "import pyChatGPT \n",
    "#from pyChatGPT import ChatGPT"
   ]
  },
  {
   "cell_type": "code",
   "execution_count": null,
   "id": "b723dedd",
   "metadata": {},
   "outputs": [],
   "source": [
    "session_token = ''\n",
    "\n",
    "api = chatGPT(session_token)#auth with session token\n",
    "\n",
    "#api2 : chatGPT(email= '', password='')\n",
    "#api3 : chatGPT(session_token, conversation_id = 'some-random-uuid')\n",
    "#api4 : chatGPT(session_token, proxy = 'hhtp://proxy.example.com:8080')"
   ]
  }
 ],
 "metadata": {
  "kernelspec": {
   "display_name": "Python 3 (ipykernel)",
   "language": "python",
   "name": "python3"
  },
  "language_info": {
   "codemirror_mode": {
    "name": "ipython",
    "version": 3
   },
   "file_extension": ".py",
   "mimetype": "text/x-python",
   "name": "python",
   "nbconvert_exporter": "python",
   "pygments_lexer": "ipython3",
   "version": "3.8.10"
  }
 },
 "nbformat": 4,
 "nbformat_minor": 5
}
