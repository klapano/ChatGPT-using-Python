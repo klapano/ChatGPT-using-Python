{
 "cells": [
  {
   "cell_type": "code",
   "execution_count": 32,
   "id": "afad7261",
   "metadata": {},
   "outputs": [],
   "source": [
    "import requests"
   ]
  },
  {
   "cell_type": "code",
   "execution_count": 33,
   "id": "33df1da9",
   "metadata": {},
   "outputs": [],
   "source": [
    "url = 'https://api.writesonic.com/v2/business/content/chatsonic?engine=premium'"
   ]
  },
  {
   "cell_type": "code",
   "execution_count": 34,
   "id": "ee6d121b",
   "metadata": {},
   "outputs": [],
   "source": [
    "#question = 'What is a string?'"
   ]
  },
  {
   "cell_type": "code",
   "execution_count": 35,
   "id": "3d176fa6",
   "metadata": {},
   "outputs": [],
   "source": [
    "payload = {\n",
    "    'enable_google_results': 'true',\n",
    "    'enable_memory': True,\n",
    "    'Input_text' : ''\n",
    "}"
   ]
  },
  {
   "cell_type": "code",
   "execution_count": 36,
   "id": "3c5b9041",
   "metadata": {},
   "outputs": [],
   "source": [
    "headers = {\n",
    "    'accept' : 'application/json',\n",
    "    'content-type' : 'application/json',\n",
    "    'X-API-KEY' : 'd45d5280-ffe0-434a-9b7c-b29299e1b552'\n",
    "}"
   ]
  },
  {
   "cell_type": "code",
   "execution_count": 37,
   "id": "6298020b",
   "metadata": {},
   "outputs": [
    {
     "name": "stdout",
     "output_type": "stream",
     "text": [
      "{\"detail\":\"Input data validation error: {'loc': ('__root__', 'input_text'), 'msg': 'field required', 'type': 'value_error.missing'}\"}\n"
     ]
    }
   ],
   "source": [
    "response = requests.post(url, json = payload, headers = headers)\n",
    "\n",
    "print(response.text)"
   ]
  }
 ],
 "metadata": {
  "kernelspec": {
   "display_name": "Python 3 (ipykernel)",
   "language": "python",
   "name": "python3"
  },
  "language_info": {
   "codemirror_mode": {
    "name": "ipython",
    "version": 3
   },
   "file_extension": ".py",
   "mimetype": "text/x-python",
   "name": "python",
   "nbconvert_exporter": "python",
   "pygments_lexer": "ipython3",
   "version": "3.8.10"
  }
 },
 "nbformat": 4,
 "nbformat_minor": 5
}
